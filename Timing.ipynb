{
 "cells": [
  {
   "cell_type": "code",
   "execution_count": 1,
   "metadata": {},
   "outputs": [
    {
     "data": {
      "text/plain": [
       "<BarContainer object of 3 artists>"
      ]
     },
     "execution_count": 1,
     "metadata": {},
     "output_type": "execute_result"
    },
    {
     "data": {
      "image/png": "[encoded data removed]",
      "text/plain": [
       "<Figure size 432x288 with 1 Axes>"
      ]
     },
     "metadata": {
      "needs_background": "light"
     },
     "output_type": "display_data"
    }
   ],
   "source": [
    "import matplotlib.pyplot as plt\n",
    "%matplotlib inline\n",
    "\n",
    "regt = 0\n",
    "smct = 0\n",
    "plyt = 0\n",
    "\n",
    "with open('Reg_Expr\\\\time') as regf:\n",
    "    for line in regf:\n",
    "        regt = float(line)\n",
    "        \n",
    "with open('Smc\\\\time') as smcf:\n",
    "    for line in smcf:\n",
    "        smct = float(line)\n",
    "        \n",
    "with open('PLY\\\\time') as plyf:\n",
    "    for line in plyf:\n",
    "        plyt = float(line)\n",
    "idx = [1, 2, 3]\n",
    "vals = [regt, smct, plyt]\n",
    "\n",
    "plt.bar(idx, vals, tick_label=['regex', 'smc', 'ply'])"
   ]
  },
  {
   "cell_type": "code",
   "execution_count": null,
   "metadata": {},
   "outputs": [],
   "source": []
  }
 ],
 "metadata": {
  "kernelspec": {
   "display_name": "Python 3",
   "language": "python",
   "name": "python3"
  },
  "language_info": {
   "codemirror_mode": {
    "name": "ipython",
    "version": 3
   },
   "file_extension": ".py",
   "mimetype": "text/x-python",
   "name": "python",
   "nbconvert_exporter": "python",
   "pygments_lexer": "ipython3",
   "version": "3.8.2"
  }
 },
 "nbformat": 4,
 "nbformat_minor": 4
}
